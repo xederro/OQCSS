{
 "cells": [
  {
   "cell_type": "code",
   "id": "initial_id",
   "metadata": {
    "collapsed": true,
    "ExecuteTime": {
     "end_time": "2025-09-18T10:14:04.062910Z",
     "start_time": "2025-09-18T10:13:45.393148Z"
    }
   },
   "source": [
    "from qiskit_aer import AerSimulator\n",
    "from qiskit import QuantumCircuit, transpile\n",
    "from qiskit_ibm_runtime import QiskitRuntimeService\n",
    "from qiskit_ibm_runtime.fake_provider import FakeManilaV2\n",
    "from qiskit.visualization import plot_histogram\n",
    "from iqm.qiskit_iqm import IQMProvider\n",
    "import os\n",
    "import numpy as np\n",
    "\n",
    "num_shots = 1000\n",
    "n = int(input(\"No. of qbits? \"))\n",
    "spark = bool(int(input(\"Run on spark? \")))\n",
    "\n",
    "if n < 1:\n",
    "    print(\"Invalid input\")\n",
    "    exit()\n",
    "\n",
    "if spark:\n",
    "    os.environ[\"IQM_TOKENS_FILE\"] = r\"/home/xederro/.cache/iqm-client-cli/tokens.json\"\n",
    "    IQM_URL = \"https://odra5.e-science.pl/station\"\n",
    "    provider = IQMProvider(IQM_URL)\n",
    "    backend = provider.get_backend()\n",
    "    # backend = AerSimulator.from_backend(provider.get_backend())\n",
    "    print(\"Running on Spark\")\n",
    "else:\n",
    "    sim = FakeManilaV2()\n",
    "    backend = AerSimulator.from_backend(sim)\n",
    "    print(\"Running on local simulator\")\n",
    "\n",
    "circuit = QuantumCircuit(n)\n",
    "\n",
    "circuit.h(0)\n",
    "for i in range(n-1):\n",
    "    circuit.cx(0, i+1)\n",
    "circuit.measure_all()\n",
    "\n",
    "circuit.draw(output='mpl')\n",
    "\n",
    "transpiled_circuit = transpile(circuit, backend)\n",
    "transpiled_circuit.draw('mpl', style=\"iqp\")\n",
    "\n",
    "result = backend.run(transpiled_circuit, shots=num_shots).result()\n",
    "counts = result.get_counts(0)\n",
    "print('Counts(noise):', counts)\n",
    "plot_histogram(counts)"
   ],
   "outputs": [
    {
     "name": "stderr",
     "output_type": "stream",
     "text": [
      "station-control-client version '9.8.0' is newer minor version than '9.4.0' used by the station control server, some new client features might not be supported.\n",
      "/home/xederro/.pyenv/versions/3.11.13/lib/python3.11/site-packages/qiskit_aer/noise/noise_model.py:376: UserWarning: Qiskit backend <iqm.qiskit_iqm.iqm_provider.IQMBackend object at 0x7feb4189c290> has no QubitProperties, so the resulting noise model will not include any thermal relaxation errors.\n",
      "  warn(\n"
     ]
    },
    {
     "name": "stdout",
     "output_type": "stream",
     "text": [
      "Running on Spark\n",
      "Counts(noise): {'0000': 500, '1111': 500}\n"
     ]
    },
    {
     "data": {
      "text/plain": [
       "<Figure size 640x480 with 1 Axes>"
      ],
      "image/png": "[encoded data removed]"
     },
     "execution_count": 1,
     "metadata": {},
     "output_type": "execute_result"
    }
   ],
   "execution_count": 1
  }
 ],
 "metadata": {
  "kernelspec": {
   "display_name": "Python 3",
   "language": "python",
   "name": "python3"
  },
  "language_info": {
   "codemirror_mode": {
    "name": "ipython",
    "version": 2
   },
   "file_extension": ".py",
   "mimetype": "text/x-python",
   "name": "python",
   "nbconvert_exporter": "python",
   "pygments_lexer": "ipython2",
   "version": "2.7.6"
  }
 },
 "nbformat": 4,
 "nbformat_minor": 5
}
